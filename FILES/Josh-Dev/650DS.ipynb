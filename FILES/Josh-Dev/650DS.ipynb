{
 "cells": [
  {
   "cell_type": "code",
   "execution_count": 38,
   "metadata": {},
   "outputs": [],
   "source": [
    "import pandas as pd\n",
    "import os\n",
    "from sqlalchemy import text\n",
    "from sqlalchemy.engine import URL\n",
    "\n",
    "from google.cloud import bigquery"
   ]
  },
  {
   "cell_type": "code",
   "execution_count": 39,
   "metadata": {},
   "outputs": [
    {
     "name": "stdout",
     "output_type": "stream",
     "text": [
      "Datasets in project physionet-data-435019:\n",
      "\tmimiciii\n"
     ]
    }
   ],
   "source": [
    "# Initialize the BigQuery client using ADC\n",
    "client = bigquery.Client()\n",
    "\n",
    "# Test the connection by listing your BigQuery datasets\n",
    "datasets = list(client.list_datasets())\n",
    "project = client.project\n",
    "\n",
    "if datasets:\n",
    "    print(f\"Datasets in project {project}:\")\n",
    "    for dataset in datasets:\n",
    "        print(f\"\\t{dataset.dataset_id}\")\n",
    "else:\n",
    "    print(f\"No datasets found in project {project}.\")\n"
   ]
  },
  {
   "cell_type": "markdown",
   "metadata": {},
   "source": [
    "## Patient Query"
   ]
  },
  {
   "cell_type": "code",
   "execution_count": 44,
   "metadata": {},
   "outputs": [],
   "source": [
    "patientQuery = \"\"\"SELECT DISTINCT\n",
    "    p.SUBJECT_ID,\n",
    "    p.GENDER,\n",
    "    p.DOB,\n",
    "    p.DOD,\n",
    "    p.EXPIRE_FLAG,\n",
    "    a.HADM_ID,\n",
    "    a.ADMITTIME,\n",
    "    a.DISCHTIME,\n",
    "    a.ADMISSION_TYPE,\n",
    "    DATE_DIFF(DATE(a.ADMITTIME), DATE(p.DOB), YEAR) AS AGE_AT_ADMISSION\n",
    "FROM\n",
    "    mimiciii.patients p\n",
    "JOIN\n",
    "    mimiciii.diagnoses_icd d\n",
    "    ON p.SUBJECT_ID = d.SUBJECT_ID\n",
    "JOIN\n",
    "    mimiciii.admissions a\n",
    "    ON d.HADM_ID = a.HADM_ID\n",
    "WHERE\n",
    "    d.ICD9_CODE IN ('99591', '99592');\n",
    "\"\"\"\n",
    "\n",
    "patient_df = client.query(patientQuery).to_dataframe()"
   ]
  },
  {
   "cell_type": "markdown",
   "metadata": {},
   "source": [
    "## Heart Rate Query"
   ]
  },
  {
   "cell_type": "code",
   "execution_count": 45,
   "metadata": {},
   "outputs": [],
   "source": [
    "heart_rate_query = \"\"\"\n",
    "SELECT C.SUBJECT_ID, AVG(C.VALUENUM) AS HEARTRATE_MEAN\n",
    "FROM mimiciii.chartevents AS C\n",
    "INNER JOIN mimiciii.diagnoses_icd AS D ON D.SUBJECT_ID = C.SUBJECT_ID\n",
    "JOIN mimiciii.d_items AS ITEM ON ITEM.ITEMID = C.ITEMID\n",
    "WHERE D.ICD9_CODE IN ('99591', '99592') AND (C.ITEMID  IN (211, 220045))\n",
    "GROUP BY C.SUBJECT_ID, ITEM.LABEL\n",
    "ORDER BY C.SUBJECT_ID ASC\n",
    "\"\"\"\n",
    "\n",
    "heart_rate_df = client.query(heart_rate_query).to_dataframe()"
   ]
  },
  {
   "cell_type": "code",
   "execution_count": 43,
   "metadata": {},
   "outputs": [
    {
     "data": {
      "text/html": [
       "<div>\n",
       "<style scoped>\n",
       "    .dataframe tbody tr th:only-of-type {\n",
       "        vertical-align: middle;\n",
       "    }\n",
       "\n",
       "    .dataframe tbody tr th {\n",
       "        vertical-align: top;\n",
       "    }\n",
       "\n",
       "    .dataframe thead th {\n",
       "        text-align: right;\n",
       "    }\n",
       "</style>\n",
       "<table border=\"1\" class=\"dataframe\">\n",
       "  <thead>\n",
       "    <tr style=\"text-align: right;\">\n",
       "      <th></th>\n",
       "      <th>SUBJECT_ID</th>\n",
       "      <th>GENDER</th>\n",
       "      <th>DOB</th>\n",
       "      <th>DOD</th>\n",
       "      <th>EXPIRE_FLAG</th>\n",
       "      <th>HADM_ID</th>\n",
       "      <th>ADMITTIME</th>\n",
       "      <th>DISCHTIME</th>\n",
       "      <th>ADMISSION_TYPE</th>\n",
       "      <th>AGE_AT_ADMISSION</th>\n",
       "      <th>HEARTRATE_MEAN</th>\n",
       "    </tr>\n",
       "  </thead>\n",
       "  <tbody>\n",
       "    <tr>\n",
       "      <th>0</th>\n",
       "      <td>18333</td>\n",
       "      <td>F</td>\n",
       "      <td>2094-01-21</td>\n",
       "      <td>2168-01-08</td>\n",
       "      <td>1</td>\n",
       "      <td>185644</td>\n",
       "      <td>2167-12-23 20:54:00</td>\n",
       "      <td>2168-01-08 02:40:00</td>\n",
       "      <td>EMERGENCY</td>\n",
       "      <td>73</td>\n",
       "      <td>76.692308</td>\n",
       "    </tr>\n",
       "    <tr>\n",
       "      <th>1</th>\n",
       "      <td>55935</td>\n",
       "      <td>F</td>\n",
       "      <td>2053-10-02</td>\n",
       "      <td>2112-02-08</td>\n",
       "      <td>1</td>\n",
       "      <td>116770</td>\n",
       "      <td>2112-01-30 23:04:00</td>\n",
       "      <td>2112-02-08 05:20:00</td>\n",
       "      <td>EMERGENCY</td>\n",
       "      <td>59</td>\n",
       "      <td>100.165899</td>\n",
       "    </tr>\n",
       "    <tr>\n",
       "      <th>2</th>\n",
       "      <td>32012</td>\n",
       "      <td>F</td>\n",
       "      <td>2058-04-26</td>\n",
       "      <td>2144-02-08</td>\n",
       "      <td>1</td>\n",
       "      <td>138125</td>\n",
       "      <td>2144-02-01 05:13:00</td>\n",
       "      <td>2144-02-08 15:05:00</td>\n",
       "      <td>EMERGENCY</td>\n",
       "      <td>86</td>\n",
       "      <td>94.541401</td>\n",
       "    </tr>\n",
       "    <tr>\n",
       "      <th>3</th>\n",
       "      <td>8060</td>\n",
       "      <td>F</td>\n",
       "      <td>2111-11-26</td>\n",
       "      <td>2164-02-08</td>\n",
       "      <td>1</td>\n",
       "      <td>125303</td>\n",
       "      <td>2164-01-04 21:26:00</td>\n",
       "      <td>2164-02-08 12:00:00</td>\n",
       "      <td>EMERGENCY</td>\n",
       "      <td>53</td>\n",
       "      <td>103.072883</td>\n",
       "    </tr>\n",
       "    <tr>\n",
       "      <th>4</th>\n",
       "      <td>17634</td>\n",
       "      <td>F</td>\n",
       "      <td>2057-09-03</td>\n",
       "      <td>2116-02-16</td>\n",
       "      <td>1</td>\n",
       "      <td>169434</td>\n",
       "      <td>2116-02-14 17:30:00</td>\n",
       "      <td>2116-02-16 09:40:00</td>\n",
       "      <td>EMERGENCY</td>\n",
       "      <td>59</td>\n",
       "      <td>110.307692</td>\n",
       "    </tr>\n",
       "  </tbody>\n",
       "</table>\n",
       "</div>"
      ],
      "text/plain": [
       "   SUBJECT_ID GENDER        DOB        DOD  EXPIRE_FLAG  HADM_ID  \\\n",
       "0       18333      F 2094-01-21 2168-01-08            1   185644   \n",
       "1       55935      F 2053-10-02 2112-02-08            1   116770   \n",
       "2       32012      F 2058-04-26 2144-02-08            1   138125   \n",
       "3        8060      F 2111-11-26 2164-02-08            1   125303   \n",
       "4       17634      F 2057-09-03 2116-02-16            1   169434   \n",
       "\n",
       "            ADMITTIME           DISCHTIME ADMISSION_TYPE  AGE_AT_ADMISSION  \\\n",
       "0 2167-12-23 20:54:00 2168-01-08 02:40:00      EMERGENCY                73   \n",
       "1 2112-01-30 23:04:00 2112-02-08 05:20:00      EMERGENCY                59   \n",
       "2 2144-02-01 05:13:00 2144-02-08 15:05:00      EMERGENCY                86   \n",
       "3 2164-01-04 21:26:00 2164-02-08 12:00:00      EMERGENCY                53   \n",
       "4 2116-02-14 17:30:00 2116-02-16 09:40:00      EMERGENCY                59   \n",
       "\n",
       "   HEARTRATE_MEAN  \n",
       "0       76.692308  \n",
       "1      100.165899  \n",
       "2       94.541401  \n",
       "3      103.072883  \n",
       "4      110.307692  "
      ]
     },
     "execution_count": 43,
     "metadata": {},
     "output_type": "execute_result"
    }
   ],
   "source": [
    "merge = pd.merge(patient_df, heart_rate_df, how='left', on='SUBJECT_ID')\n",
    "\n",
    "merge.head()"
   ]
  }
 ],
 "metadata": {
  "kernelspec": {
   "display_name": "base",
   "language": "python",
   "name": "python3"
  },
  "language_info": {
   "codemirror_mode": {
    "name": "ipython",
    "version": 3
   },
   "file_extension": ".py",
   "mimetype": "text/x-python",
   "name": "python",
   "nbconvert_exporter": "python",
   "pygments_lexer": "ipython3",
   "version": "3.11.4"
  }
 },
 "nbformat": 4,
 "nbformat_minor": 2
}
