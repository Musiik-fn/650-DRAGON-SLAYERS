{
 "cells": [
  {
   "cell_type": "code",
   "execution_count": 1,
   "metadata": {},
   "outputs": [],
   "source": [
    "import pandas as pd\n",
    "import os\n",
    "from sqlalchemy import text\n",
    "from sqlalchemy.engine import URL\n",
    "\n",
    "from google.cloud import bigquery"
   ]
  },
  {
   "cell_type": "code",
   "execution_count": 2,
   "metadata": {},
   "outputs": [
    {
     "name": "stdout",
     "output_type": "stream",
     "text": [
      "Datasets in project physionet-data-435019:\n",
      "\tmimiciii\n"
     ]
    }
   ],
   "source": [
    "# Initialize the BigQuery client using ADC\n",
    "client = bigquery.Client()\n",
    "\n",
    "# Test the connection by listing your BigQuery datasets\n",
    "datasets = list(client.list_datasets())\n",
    "project = client.project\n",
    "\n",
    "if datasets:\n",
    "    print(f\"Datasets in project {project}:\")\n",
    "    for dataset in datasets:\n",
    "        print(f\"\\t{dataset.dataset_id}\")\n",
    "else:\n",
    "    print(f\"No datasets found in project {project}.\")\n"
   ]
  },
  {
   "cell_type": "markdown",
   "metadata": {},
   "source": [
    "## Patient Query"
   ]
  },
  {
   "cell_type": "code",
   "execution_count": 3,
   "metadata": {},
   "outputs": [],
   "source": [
    "patientQuery = \"\"\"\n",
    "SELECT DISTINCT\n",
    "    p.SUBJECT_ID,\n",
    "    p.GENDER,\n",
    "    p.DOB,\n",
    "    p.DOD,\n",
    "    p.EXPIRE_FLAG,\n",
    "    a.HADM_ID,\n",
    "    a.ADMITTIME,\n",
    "    a.DISCHTIME,\n",
    "    a.ADMISSION_TYPE,\n",
    "    a.ETHNICITY,\n",
    "    DATE_DIFF(DATE(a.ADMITTIME), DATE(p.DOB), YEAR) AS AGE_AT_ADMISSION\n",
    "FROM\n",
    "    mimiciii.patients p\n",
    "JOIN\n",
    "    mimiciii.diagnoses_icd d\n",
    "    ON p.SUBJECT_ID = d.SUBJECT_ID\n",
    "JOIN\n",
    "    mimiciii.admissions a\n",
    "    ON d.HADM_ID = a.HADM_ID\n",
    "WHERE\n",
    "    d.ICD9_CODE IN ('99591', '99592');\n",
    "\"\"\"\n",
    "\n",
    "patient_df = client.query(patientQuery).to_dataframe()"
   ]
  },
  {
   "cell_type": "markdown",
   "metadata": {},
   "source": [
    "### Length of Stay (Days)"
   ]
  },
  {
   "cell_type": "code",
   "execution_count": 4,
   "metadata": {},
   "outputs": [],
   "source": [
    "# 1. Ensure 'ADMITTIME' and 'DISCHTIME' are in datetime format\n",
    "patient_df['ADMITTIME'] = pd.to_datetime(patient_df['ADMITTIME'])\n",
    "patient_df['DISCHTIME'] = pd.to_datetime(patient_df['DISCHTIME'])\n",
    "\n",
    "# 2. Calculate Length of Stay (LOS) in days\n",
    "patient_df['LOS'] = (patient_df['DISCHTIME'] - patient_df['ADMITTIME']).dt.days"
   ]
  },
  {
   "cell_type": "markdown",
   "metadata": {},
   "source": [
    "### Length of Stay in ICU (Days)"
   ]
  },
  {
   "cell_type": "code",
   "execution_count": 5,
   "metadata": {},
   "outputs": [
    {
     "data": {
      "text/html": [
       "<div>\n",
       "<style scoped>\n",
       "    .dataframe tbody tr th:only-of-type {\n",
       "        vertical-align: middle;\n",
       "    }\n",
       "\n",
       "    .dataframe tbody tr th {\n",
       "        vertical-align: top;\n",
       "    }\n",
       "\n",
       "    .dataframe thead th {\n",
       "        text-align: right;\n",
       "    }\n",
       "</style>\n",
       "<table border=\"1\" class=\"dataframe\">\n",
       "  <thead>\n",
       "    <tr style=\"text-align: right;\">\n",
       "      <th></th>\n",
       "      <th>SUBJECT_ID</th>\n",
       "      <th>LOS_ICU_MEAN</th>\n",
       "    </tr>\n",
       "  </thead>\n",
       "  <tbody>\n",
       "    <tr>\n",
       "      <th>0</th>\n",
       "      <td>21</td>\n",
       "      <td>7.1332</td>\n",
       "    </tr>\n",
       "    <tr>\n",
       "      <th>1</th>\n",
       "      <td>38</td>\n",
       "      <td>25.5485</td>\n",
       "    </tr>\n",
       "    <tr>\n",
       "      <th>2</th>\n",
       "      <td>61</td>\n",
       "      <td>2.2841</td>\n",
       "    </tr>\n",
       "    <tr>\n",
       "      <th>3</th>\n",
       "      <td>62</td>\n",
       "      <td>2.8257</td>\n",
       "    </tr>\n",
       "    <tr>\n",
       "      <th>4</th>\n",
       "      <td>64</td>\n",
       "      <td>2.3250</td>\n",
       "    </tr>\n",
       "  </tbody>\n",
       "</table>\n",
       "</div>"
      ],
      "text/plain": [
       "   SUBJECT_ID  LOS_ICU_MEAN\n",
       "0          21        7.1332\n",
       "1          38       25.5485\n",
       "2          61        2.2841\n",
       "3          62        2.8257\n",
       "4          64        2.3250"
      ]
     },
     "execution_count": 5,
     "metadata": {},
     "output_type": "execute_result"
    }
   ],
   "source": [
    "icu_los_query = \"\"\"\n",
    "SELECT \n",
    "    ICU.SUBJECT_ID, \n",
    "    AVG(ICU.LOS) AS LOS_ICU_MEAN\n",
    "FROM \n",
    "    mimiciii.icustays AS ICU\n",
    "INNER JOIN \n",
    "    mimiciii.diagnoses_icd AS D \n",
    "    ON D.SUBJECT_ID = ICU.SUBJECT_ID\n",
    "WHERE \n",
    "    D.ICD9_CODE IN ('99591', '99592') \n",
    "    AND ICU.LOS IS NOT NULL\n",
    "GROUP BY \n",
    "    ICU.SUBJECT_ID\n",
    "ORDER BY \n",
    "    ICU.SUBJECT_ID ASC\n",
    "\"\"\"\n",
    "\n",
    "# 4. Execute the Query and Load Results into a DataFrame\n",
    "icu_los_df = client.query(icu_los_query).to_dataframe()\n",
    "\n",
    "# 5. Display the Cleaned ICU LOS DataFrame\n",
    "icu_los_df.head()"
   ]
  },
  {
   "cell_type": "markdown",
   "metadata": {},
   "source": [
    "## Heart Rate Query"
   ]
  },
  {
   "cell_type": "code",
   "execution_count": 6,
   "metadata": {},
   "outputs": [],
   "source": [
    "heart_rate_query = \"\"\"\n",
    "SELECT C.SUBJECT_ID, AVG(C.VALUENUM) AS HEARTRATE_MEAN\n",
    "FROM mimiciii.chartevents AS C\n",
    "INNER JOIN mimiciii.diagnoses_icd AS D ON D.SUBJECT_ID = C.SUBJECT_ID\n",
    "JOIN mimiciii.d_items AS ITEM ON ITEM.ITEMID = C.ITEMID\n",
    "WHERE D.ICD9_CODE IN ('99591', '99592') AND (C.ITEMID  IN (211, 220045))\n",
    "GROUP BY C.SUBJECT_ID, ITEM.LABEL\n",
    "ORDER BY C.SUBJECT_ID ASC\n",
    "\"\"\"\n",
    "\n",
    "heart_rate_df = client.query(heart_rate_query).to_dataframe()\n",
    "# merge = pd.merge(patient_df, heart_rate_df, how='left', on='SUBJECT_ID')\n",
    "# merge.head()"
   ]
  },
  {
   "cell_type": "markdown",
   "metadata": {},
   "source": [
    "## Height Query"
   ]
  },
  {
   "cell_type": "code",
   "execution_count": 7,
   "metadata": {},
   "outputs": [
    {
     "data": {
      "text/html": [
       "<div>\n",
       "<style scoped>\n",
       "    .dataframe tbody tr th:only-of-type {\n",
       "        vertical-align: middle;\n",
       "    }\n",
       "\n",
       "    .dataframe tbody tr th {\n",
       "        vertical-align: top;\n",
       "    }\n",
       "\n",
       "    .dataframe thead th {\n",
       "        text-align: right;\n",
       "    }\n",
       "</style>\n",
       "<table border=\"1\" class=\"dataframe\">\n",
       "  <thead>\n",
       "    <tr style=\"text-align: right;\">\n",
       "      <th></th>\n",
       "      <th>SUBJECT_ID</th>\n",
       "      <th>HEIGHT_CM</th>\n",
       "    </tr>\n",
       "  </thead>\n",
       "  <tbody>\n",
       "    <tr>\n",
       "      <th>0</th>\n",
       "      <td>124</td>\n",
       "      <td>172.72</td>\n",
       "    </tr>\n",
       "    <tr>\n",
       "      <th>2</th>\n",
       "      <td>305</td>\n",
       "      <td>157.48</td>\n",
       "    </tr>\n",
       "    <tr>\n",
       "      <th>4</th>\n",
       "      <td>402</td>\n",
       "      <td>168.00</td>\n",
       "    </tr>\n",
       "    <tr>\n",
       "      <th>6</th>\n",
       "      <td>406</td>\n",
       "      <td>160.00</td>\n",
       "    </tr>\n",
       "    <tr>\n",
       "      <th>8</th>\n",
       "      <td>502</td>\n",
       "      <td>178.00</td>\n",
       "    </tr>\n",
       "  </tbody>\n",
       "</table>\n",
       "</div>"
      ],
      "text/plain": [
       "   SUBJECT_ID  HEIGHT_CM\n",
       "0         124     172.72\n",
       "2         305     157.48\n",
       "4         402     168.00\n",
       "6         406     160.00\n",
       "8         502     178.00"
      ]
     },
     "execution_count": 7,
     "metadata": {},
     "output_type": "execute_result"
    }
   ],
   "source": [
    "height_query = \"\"\"\n",
    "SELECT C.SUBJECT_ID, AVG(C.VALUENUM) AS HEIGHT_MEAN, ITEM.LABEL, ITEM.ITEMID\n",
    "FROM mimiciii.chartevents AS C\n",
    "INNER JOIN mimiciii.diagnoses_icd AS D ON D.SUBJECT_ID = C.SUBJECT_ID\n",
    "JOIN mimiciii.d_items AS ITEM ON ITEM.ITEMID = C.ITEMID\n",
    "WHERE D.ICD9_CODE IN ('99591', '99592') AND (C.ITEMID  IN (226707, 226730, 1394))\n",
    "GROUP BY C.SUBJECT_ID, ITEM.LABEL, ITEM.ITEMID\n",
    "ORDER BY C.SUBJECT_ID ASC\n",
    "\"\"\"\n",
    "\n",
    "height_df = client.query(height_query).to_dataframe()\n",
    "\n",
    "# Convert HEIGHT_MEAN to centimeters where ITEMID is not 226730\n",
    "height_df['HEIGHT_CM'] = height_df.apply(\n",
    "    lambda row: row['HEIGHT_MEAN'] * 2.54 if row['ITEMID'] != 226730 else row['HEIGHT_MEAN'],\n",
    "    axis=1\n",
    ")\n",
    "\n",
    "# Remove duplicate records \n",
    "height_df_cleaned = height_df.drop_duplicates(subset=['SUBJECT_ID'])\n",
    "\n",
    "# Select only relevant columns\n",
    "height_df_cleaned = height_df_cleaned[['SUBJECT_ID', 'HEIGHT_CM']]\n",
    "height_df_cleaned.head()"
   ]
  },
  {
   "cell_type": "markdown",
   "metadata": {},
   "source": [
    "## Weight Query"
   ]
  },
  {
   "cell_type": "code",
   "execution_count": 8,
   "metadata": {},
   "outputs": [
    {
     "data": {
      "text/html": [
       "<div>\n",
       "<style scoped>\n",
       "    .dataframe tbody tr th:only-of-type {\n",
       "        vertical-align: middle;\n",
       "    }\n",
       "\n",
       "    .dataframe tbody tr th {\n",
       "        vertical-align: top;\n",
       "    }\n",
       "\n",
       "    .dataframe thead th {\n",
       "        text-align: right;\n",
       "    }\n",
       "</style>\n",
       "<table border=\"1\" class=\"dataframe\">\n",
       "  <thead>\n",
       "    <tr style=\"text-align: right;\">\n",
       "      <th></th>\n",
       "      <th>SUBJECT_ID</th>\n",
       "      <th>WEIGHT_MEAN</th>\n",
       "    </tr>\n",
       "  </thead>\n",
       "  <tbody>\n",
       "    <tr>\n",
       "      <th>0</th>\n",
       "      <td>21</td>\n",
       "      <td>64.599998</td>\n",
       "    </tr>\n",
       "    <tr>\n",
       "      <th>1</th>\n",
       "      <td>38</td>\n",
       "      <td>97.375000</td>\n",
       "    </tr>\n",
       "    <tr>\n",
       "      <th>2</th>\n",
       "      <td>61</td>\n",
       "      <td>56.400000</td>\n",
       "    </tr>\n",
       "    <tr>\n",
       "      <th>3</th>\n",
       "      <td>62</td>\n",
       "      <td>78.300001</td>\n",
       "    </tr>\n",
       "    <tr>\n",
       "      <th>4</th>\n",
       "      <td>64</td>\n",
       "      <td>69.000000</td>\n",
       "    </tr>\n",
       "  </tbody>\n",
       "</table>\n",
       "</div>"
      ],
      "text/plain": [
       "   SUBJECT_ID  WEIGHT_MEAN\n",
       "0          21    64.599998\n",
       "1          38    97.375000\n",
       "2          61    56.400000\n",
       "3          62    78.300001\n",
       "4          64    69.000000"
      ]
     },
     "execution_count": 8,
     "metadata": {},
     "output_type": "execute_result"
    }
   ],
   "source": [
    "# weight is in KG\n",
    "weight_query = \"\"\"\n",
    "SELECT C.SUBJECT_ID, AVG(C.VALUENUM) AS WEIGHT_MEAN, ITEM.LABEL, ITEM.ITEMID\n",
    "FROM mimiciii.chartevents AS C\n",
    "INNER JOIN mimiciii.diagnoses_icd AS D ON D.SUBJECT_ID = C.SUBJECT_ID\n",
    "JOIN mimiciii.d_items AS ITEM ON ITEM.ITEMID = C.ITEMID\n",
    "WHERE D.ICD9_CODE IN ('99591', '99592') AND (C.ITEMID  IN (226531, 763, 224639, 226512))\n",
    "GROUP BY C.SUBJECT_ID, ITEM.LABEL, ITEM.ITEMID\n",
    "ORDER BY C.SUBJECT_ID ASC\n",
    "\"\"\"\n",
    "\n",
    "weight_df = client.query(weight_query).to_dataframe()\n",
    "weight_df.head()\n",
    "\n",
    "max_weight = weight_df['WEIGHT_MEAN'].max()\n",
    "weight_df_cleaned = weight_df[weight_df['WEIGHT_MEAN'] != max_weight]\n",
    "\n",
    "# 1. Convert WEIGHT_MEAN from LB to KG where ITEMID is 226531\n",
    "weight_df_cleaned.loc[weight_df_cleaned['ITEMID'] == 226531, 'WEIGHT_MEAN'] *= 0.453592\n",
    "\n",
    "# 2. Remove duplicate records \n",
    "weight_df_cleaned = weight_df_cleaned.drop_duplicates(subset=['SUBJECT_ID'])\n",
    "weight_df_cleaned = weight_df_cleaned.drop(['LABEL', 'ITEMID'], axis=1)\n",
    "weight_df_cleaned.head()"
   ]
  }
 ],
 "metadata": {
  "kernelspec": {
   "display_name": "base",
   "language": "python",
   "name": "python3"
  },
  "language_info": {
   "codemirror_mode": {
    "name": "ipython",
    "version": 3
   },
   "file_extension": ".py",
   "mimetype": "text/x-python",
   "name": "python",
   "nbconvert_exporter": "python",
   "pygments_lexer": "ipython3",
   "version": "3.11.4"
  }
 },
 "nbformat": 4,
 "nbformat_minor": 2
}
