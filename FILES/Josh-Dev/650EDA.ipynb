{
 "cells": [
  {
   "cell_type": "code",
   "execution_count": 2,
   "metadata": {},
   "outputs": [],
   "source": [
    "import pandas as pd\n",
    "import seaborn as sns"
   ]
  },
  {
   "cell_type": "code",
   "execution_count": 3,
   "metadata": {},
   "outputs": [
    {
     "name": "stdout",
     "output_type": "stream",
     "text": [
      "<class 'pandas.core.frame.DataFrame'>\n",
      "RangeIndex: 5176 entries, 0 to 5175\n",
      "Data columns (total 45 columns):\n",
      " #   Column                Non-Null Count  Dtype  \n",
      "---  ------                --------------  -----  \n",
      " 0   Unnamed: 0            5176 non-null   int64  \n",
      " 1   SUBJECT_ID            5176 non-null   int64  \n",
      " 2   GENDER                5176 non-null   object \n",
      " 3   DOB                   5176 non-null   object \n",
      " 4   DOD                   3278 non-null   object \n",
      " 5   HOSPITAL_EXPIRE_FLAG  5176 non-null   int64  \n",
      " 6   HADM_ID               5176 non-null   int64  \n",
      " 7   ADMITTIME             5176 non-null   object \n",
      " 8   DISCHTIME             5176 non-null   object \n",
      " 9   ADMISSION_TYPE        5176 non-null   object \n",
      " 10  ETHNICITY             5176 non-null   object \n",
      " 11  AGE_AT_ADMISSION      5176 non-null   int64  \n",
      " 12  LOS                   5176 non-null   int64  \n",
      " 13  LOS_ICU_MEAN          5175 non-null   float64\n",
      " 14  WEIGHT_MEAN           4941 non-null   float64\n",
      " 15  HEARTRATE_MEAN        5171 non-null   float64\n",
      " 16  SBP_MEAN              5172 non-null   float64\n",
      " 17  DBP_MEAN              5172 non-null   float64\n",
      " 18  MAP_MEAN              5172 non-null   float64\n",
      " 19  RR_MEAN               5172 non-null   float64\n",
      " 20  TEMP_MEAN_C           5164 non-null   float64\n",
      " 21  TEMP_MIN_C            5164 non-null   float64\n",
      " 22  TEMP_MAX_C            5164 non-null   float64\n",
      " 23  OXYGEN_SAT_MEAN       5168 non-null   float64\n",
      " 24  DIABETES              5176 non-null   float64\n",
      " 25  ANIONGAP_MAX_VAL      5172 non-null   float64\n",
      " 26  BUN_MAX_VAL           5174 non-null   float64\n",
      " 27  CHLORIDE_MAX_VAL      5173 non-null   float64\n",
      " 28  CREATININE_MAX_VAL    5174 non-null   float64\n",
      " 29  HEMOGLOBIN_MAX_VAL    5174 non-null   float64\n",
      " 30  INR_MAX_VAL           5141 non-null   float64\n",
      " 31  LACTATE_MAX_VAL       5087 non-null   float64\n",
      " 32  PLATELET_MAX_VAL      5174 non-null   float64\n",
      " 33  POTASSIUM_MAX_VAL     5174 non-null   float64\n",
      " 34  SODIUM_MAX_VAL        5173 non-null   float64\n",
      " 35  ANIONGAP_MIN_VAL      5172 non-null   float64\n",
      " 36  BUN_MIN_VAL           5174 non-null   float64\n",
      " 37  CHLORIDE_MIN_VAL      5173 non-null   float64\n",
      " 38  CREATININE_MIN_VAL    5174 non-null   float64\n",
      " 39  HEMOGLOBIN_MIN_VAL    5174 non-null   float64\n",
      " 40  INR_MIN_VAL           5141 non-null   float64\n",
      " 41  LACTATE_MIN_VAL       5087 non-null   float64\n",
      " 42  PLATELET_MIN_VAL      5174 non-null   float64\n",
      " 43  POTASSIUM_MIN_VAL     5174 non-null   float64\n",
      " 44  SODIUM_MIN_VAL        5173 non-null   float64\n",
      "dtypes: float64(32), int64(6), object(7)\n",
      "memory usage: 1.8+ MB\n"
     ]
    }
   ],
   "source": [
    "patient_df = pd.read_csv('/Users/josh/Desktop/Macbook Working Files/Git Repos/650-DRAGON-SLAYERS/FILES/Josh-Dev/patient_df.csv')\n",
    "\n",
    "patient_df.info()"
   ]
  },
  {
   "cell_type": "code",
   "execution_count": null,
   "metadata": {},
   "outputs": [],
   "source": []
  }
 ],
 "metadata": {
  "kernelspec": {
   "display_name": "base",
   "language": "python",
   "name": "python3"
  },
  "language_info": {
   "codemirror_mode": {
    "name": "ipython",
    "version": 3
   },
   "file_extension": ".py",
   "mimetype": "text/x-python",
   "name": "python",
   "nbconvert_exporter": "python",
   "pygments_lexer": "ipython3",
   "version": "3.11.4"
  }
 },
 "nbformat": 4,
 "nbformat_minor": 2
}
