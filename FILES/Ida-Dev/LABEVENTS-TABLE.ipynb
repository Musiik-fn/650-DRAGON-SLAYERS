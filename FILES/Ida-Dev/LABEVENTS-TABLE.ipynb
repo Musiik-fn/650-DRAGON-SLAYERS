{
 "cells": [
  {
   "cell_type": "code",
   "execution_count": 1,
   "id": "7f1ca975",
   "metadata": {},
   "outputs": [],
   "source": [
    "import pandas as pd"
   ]
  },
  {
   "cell_type": "code",
   "execution_count": null,
   "id": "fdfddc7b",
   "metadata": {},
   "outputs": [],
   "source": [
    "\n",
    "df = pd.read_csv(\"/Users/josh/Desktop/Macbook Working Files/Git Repos/650-DRAGON-SLAYERS/FILES/Josh-Dev/patient_df.csv\")"
   ]
  },
  {
   "cell_type": "code",
   "execution_count": 3,
   "id": "6894b0ab",
   "metadata": {},
   "outputs": [
    {
     "data": {
      "text/plain": [
       "<bound method NDFrame.head of            ROW_ID  SUBJECT_ID   HADM_ID  ITEMID            CHARTTIME  \\\n",
       "0        12926279       20920  148445.0   50944  2102-02-03 11:39:00   \n",
       "1        27214874       94846  133042.0   50944  2171-08-02 23:05:00   \n",
       "2         6582776       10594  196367.0   50944  2116-09-11 05:25:00   \n",
       "3        17262134       27853  195738.0   50944  2129-02-26 23:03:00   \n",
       "4        19027254       31062  134857.0   50944  2149-01-22 15:00:00   \n",
       "...           ...         ...       ...     ...                  ...   \n",
       "9120335  24234801       71862  149988.0   51455  2143-11-16 16:46:00   \n",
       "9120336  18914312       30798  196137.0   51455  2154-09-28 20:28:00   \n",
       "9120337  18081846       29321  159383.0   51455  2171-04-06 09:52:00   \n",
       "9120338  20922966       47816  144244.0   51455  2151-05-11 11:43:00   \n",
       "9120339  20922966       47816  144244.0   51455  2151-05-11 11:43:00   \n",
       "\n",
       "            VALUE  VALUENUM VALUEUOM      FLAG  ROW_ID_1  SUBJECT_ID_1  \\\n",
       "0        NEGATIVE       NaN      NaN       NaN    233528         20920   \n",
       "1        NEGATIVE       NaN      NaN       NaN    627239         94846   \n",
       "2        NEGATIVE       NaN      NaN       NaN    118613         10594   \n",
       "3        NEGATIVE       NaN      NaN       NaN    314680         27853   \n",
       "4        NEGATIVE       NaN      NaN       NaN    357372         31062   \n",
       "...           ...       ...      ...       ...       ...           ...   \n",
       "9120335        81      81.0        %  abnormal    525406         71862   \n",
       "9120336        88      88.0        %  abnormal    354460         30798   \n",
       "9120337        90      90.0        %  abnormal    334460         29321   \n",
       "9120338        97      97.0        %  abnormal    413862         47816   \n",
       "9120339        97      97.0        %  abnormal    413881         47816   \n",
       "\n",
       "         HADM_ID_1  SEQ_NUM  ICD9_CODE  \n",
       "0           148445       23      99592  \n",
       "1           133042        7      99592  \n",
       "2           191743       13      99592  \n",
       "3           195738       11      99592  \n",
       "4           134857        5      99592  \n",
       "...            ...      ...        ...  \n",
       "9120335     149988       17      99592  \n",
       "9120336     196137       12      99592  \n",
       "9120337     159383        6      99592  \n",
       "9120338     144244        7      99592  \n",
       "9120339     167462        2      99591  \n",
       "\n",
       "[9120340 rows x 14 columns]>"
      ]
     },
     "execution_count": 3,
     "metadata": {},
     "output_type": "execute_result"
    }
   ],
   "source": [
    "df.head"
   ]
  },
  {
   "cell_type": "code",
   "execution_count": 4,
   "id": "2e0f5bc6",
   "metadata": {},
   "outputs": [],
   "source": [
    "item_ids_to_keep = [50868, 50912, 50806, 50902, 51222, 50811, 50813, 51265, 50971, 50822, 50983, 50824, 51516, 51237, 51006]"
   ]
  },
  {
   "cell_type": "code",
   "execution_count": 5,
   "id": "60dfd16b",
   "metadata": {},
   "outputs": [],
   "source": [
    "df = df[df['ITEMID'].isin(item_ids_to_keep)]"
   ]
  },
  {
   "cell_type": "code",
   "execution_count": 6,
   "id": "e56a37d5",
   "metadata": {},
   "outputs": [
    {
     "name": "stdout",
     "output_type": "stream",
     "text": [
      "['ROW_ID', 'SUBJECT_ID', 'HADM_ID', 'ITEMID', 'CHARTTIME', 'VALUE', 'VALUENUM', 'VALUEUOM', 'FLAG', 'ROW_ID_1', 'SUBJECT_ID_1', 'HADM_ID_1', 'SEQ_NUM', 'ICD9_CODE']\n"
     ]
    }
   ],
   "source": [
    "column_headers = df.columns.tolist()\n",
    "\n",
    "print(column_headers)"
   ]
  },
  {
   "cell_type": "code",
   "execution_count": 7,
   "id": "e765432c",
   "metadata": {},
   "outputs": [
    {
     "data": {
      "text/plain": [
       "<bound method NDFrame.head of          SUBJECT_ID  ITEMID  VALUENUM\n",
       "29395         10144   51222       3.8\n",
       "29396         25225   51222       4.1\n",
       "29397         25225   51222       4.1\n",
       "29398         25225   51222       4.1\n",
       "29399         77484   51222       4.7\n",
       "...             ...     ...       ...\n",
       "9108335        7050   50912       NaN\n",
       "9108336        7050   50912       NaN\n",
       "9108337        7050   50912       NaN\n",
       "9108338        2401   50912       NaN\n",
       "9108339       25256   50912       NaN\n",
       "\n",
       "[2459528 rows x 3 columns]>"
      ]
     },
     "execution_count": 7,
     "metadata": {},
     "output_type": "execute_result"
    }
   ],
   "source": [
    "columns_to_keep = ['SUBJECT_ID', 'ITEMID', 'VALUENUM']\n",
    "df = df[columns_to_keep]\n",
    "\n",
    "df.head"
   ]
  },
  {
   "cell_type": "code",
   "execution_count": 8,
   "id": "111508bd",
   "metadata": {},
   "outputs": [
    {
     "name": "stdout",
     "output_type": "stream",
     "text": [
      "[51222, 50971, 51237, 50983, 51516, 51006, 51265, 50806, 50811, 50813, 50822, 50824, 50868, 50902, 50912]\n"
     ]
    }
   ],
   "source": [
    "unique_item_ids = df['ITEMID'].unique()\n",
    "unique_item_ids_list = unique_item_ids.tolist()\n",
    "\n",
    "print(unique_item_ids_list)"
   ]
  },
  {
   "cell_type": "code",
   "execution_count": 9,
   "id": "1e1d4538",
   "metadata": {},
   "outputs": [
    {
     "name": "stdout",
     "output_type": "stream",
     "text": [
      "       SUBJECT_ID  ITEMID    min    max\n",
      "0              21   50806  100.0  100.0\n",
      "1              21   50811    9.0   11.1\n",
      "2              21   50813    1.4    3.9\n",
      "3              21   50822    3.9    4.8\n",
      "4              21   50824  138.0  138.0\n",
      "...           ...     ...    ...    ...\n",
      "60101       99991   51006   13.0   31.0\n",
      "60102       99991   51222    8.8   12.7\n",
      "60103       99991   51237    1.0    1.3\n",
      "60104       99991   51265  151.0  425.0\n",
      "60105       99991   51516    1.0    1.0\n",
      "\n",
      "[60106 rows x 4 columns]\n"
     ]
    }
   ],
   "source": [
    "result = df.groupby(['SUBJECT_ID', 'ITEMID'])['VALUENUM'].agg(['min', 'max']).reset_index()\n",
    "\n",
    "print(result)"
   ]
  },
  {
   "cell_type": "code",
   "execution_count": 10,
   "id": "e838e419",
   "metadata": {},
   "outputs": [
    {
     "data": {
      "text/plain": [
       "<bound method NDFrame.head of          SUBJECT_ID  ITEMID  VALUENUM  MIN_VAL  MAX_VAL\n",
       "29395         10144   51222       3.8      3.8     13.9\n",
       "29396         25225   51222       4.1      4.1     15.0\n",
       "29397         25225   51222       4.1      4.1     15.0\n",
       "29398         25225   51222       4.1      4.1     15.0\n",
       "29399         77484   51222       4.7      4.7     13.2\n",
       "...             ...     ...       ...      ...      ...\n",
       "9108335        7050   50912       NaN      0.4      3.6\n",
       "9108336        7050   50912       NaN      0.4      3.6\n",
       "9108337        7050   50912       NaN      0.4      3.6\n",
       "9108338        2401   50912       NaN      0.3      2.4\n",
       "9108339       25256   50912       NaN      0.1      1.1\n",
       "\n",
       "[2459528 rows x 5 columns]>"
      ]
     },
     "execution_count": 10,
     "metadata": {},
     "output_type": "execute_result"
    }
   ],
   "source": [
    "grouped = df.groupby(['SUBJECT_ID', 'ITEMID'])['VALUENUM']\n",
    "min_val = grouped.transform('min').rename('MIN_VAL')\n",
    "max_val = grouped.transform('max').rename('MAX_VAL')\n",
    "df = df.assign(MIN_VAL=min_val, MAX_VAL=max_val)\n",
    "\n",
    "df.head"
   ]
  },
  {
   "cell_type": "code",
   "execution_count": 11,
   "id": "fb75c798",
   "metadata": {},
   "outputs": [
    {
     "data": {
      "text/plain": [
       "(748734, 5)"
      ]
     },
     "execution_count": 11,
     "metadata": {},
     "output_type": "execute_result"
    }
   ],
   "source": [
    "df = df.drop_duplicates()\n",
    "\n",
    "df.shape"
   ]
  },
  {
   "cell_type": "code",
   "execution_count": 12,
   "id": "a9948bd9",
   "metadata": {},
   "outputs": [
    {
     "name": "stderr",
     "output_type": "stream",
     "text": [
      "C:\\Users\\idaba\\AppData\\Local\\Temp\\ipykernel_21192\\4286734318.py:19: SettingWithCopyWarning: \n",
      "A value is trying to be set on a copy of a slice from a DataFrame.\n",
      "Try using .loc[row_indexer,col_indexer] = value instead\n",
      "\n",
      "See the caveats in the documentation: https://pandas.pydata.org/pandas-docs/stable/user_guide/indexing.html#returning-a-view-versus-a-copy\n",
      "  df['ITEM'] = df['ITEMID'].map(item_dict)\n"
     ]
    },
    {
     "data": {
      "text/plain": [
       "<bound method NDFrame.head of          SUBJECT_ID  ITEMID  VALUENUM  MIN_VAL  MAX_VAL        ITEM\n",
       "29395         10144   51222       3.8      3.8     13.9  HEMOGLOBIN\n",
       "29396         25225   51222       4.1      4.1     15.0  HEMOGLOBIN\n",
       "29399         77484   51222       4.7      4.7     13.2  HEMOGLOBIN\n",
       "29401         48872   51222       4.9      4.9     12.6  HEMOGLOBIN\n",
       "29402          1987   51222       5.3      5.3     12.3  HEMOGLOBIN\n",
       "...             ...     ...       ...      ...      ...         ...\n",
       "9108322       14714   50912      15.5      6.4     15.8  CREATININE\n",
       "9108323       75557   50912      15.7      1.3     20.1  CREATININE\n",
       "9108325       25326   50912      17.0      3.3     27.2  CREATININE\n",
       "9108331        1535   50912      18.1      5.0     27.1  CREATININE\n",
       "9108332        1535   50912      23.9      5.0     27.1  CREATININE\n",
       "\n",
       "[748734 rows x 6 columns]>"
      ]
     },
     "execution_count": 12,
     "metadata": {},
     "output_type": "execute_result"
    }
   ],
   "source": [
    "item_dict = {\n",
    "    50868: 'ANIONGAP',\n",
    "    50912: 'CREATININE',\n",
    "    50806: 'CHLORIDE',\n",
    "    50902: 'CHLORIDE',\n",
    "    51222: 'HEMOGLOBIN',\n",
    "    50811: 'HEMOGLOBIN',\n",
    "    50813: 'LACTATE',\n",
    "    51265: 'PLATELET',\n",
    "    50971: 'POTASSIUM',\n",
    "    50822: 'POTASSIUM',\n",
    "    50983: 'SODIUM',\n",
    "    50824: 'SODIUM',\n",
    "    51006: 'BUN',\n",
    "    51237: 'INR',\n",
    "    51516: 'WBC'\n",
    "}\n",
    "\n",
    "df['ITEM'] = df['ITEMID'].map(item_dict)\n",
    "\n",
    "df.head\n"
   ]
  },
  {
   "cell_type": "code",
   "execution_count": 13,
   "id": "6cbe7064",
   "metadata": {},
   "outputs": [
    {
     "name": "stdout",
     "output_type": "stream",
     "text": [
      "['HEMOGLOBIN', 'POTASSIUM', 'INR', 'SODIUM', 'WBC', 'BUN', 'PLATELET', 'CHLORIDE', 'LACTATE', 'ANIONGAP', 'CREATININE']\n"
     ]
    }
   ],
   "source": [
    "unique_item = df['ITEM'].unique()\n",
    "unique_item_list = unique_item.tolist()\n",
    "\n",
    "print(unique_item_list)"
   ]
  },
  {
   "cell_type": "code",
   "execution_count": 14,
   "id": "71d86f25",
   "metadata": {},
   "outputs": [
    {
     "data": {
      "text/plain": [
       "<bound method NDFrame.head of          SUBJECT_ID        ITEM  MIN_VAL  MAX_VAL\n",
       "29395         10144  HEMOGLOBIN      3.8     13.9\n",
       "29396         25225  HEMOGLOBIN      4.1     15.0\n",
       "29399         77484  HEMOGLOBIN      4.7     13.2\n",
       "29401         48872  HEMOGLOBIN      4.9     12.6\n",
       "29402          1987  HEMOGLOBIN      5.3     12.3\n",
       "...             ...         ...      ...      ...\n",
       "9108322       14714  CREATININE      6.4     15.8\n",
       "9108323       75557  CREATININE      1.3     20.1\n",
       "9108325       25326  CREATININE      3.3     27.2\n",
       "9108331        1535  CREATININE      5.0     27.1\n",
       "9108332        1535  CREATININE      5.0     27.1\n",
       "\n",
       "[748734 rows x 4 columns]>"
      ]
     },
     "execution_count": 14,
     "metadata": {},
     "output_type": "execute_result"
    }
   ],
   "source": [
    "columns_to_keep = ['SUBJECT_ID', 'ITEM', 'MIN_VAL', 'MAX_VAL']\n",
    "df = df[columns_to_keep]\n",
    "\n",
    "df.head"
   ]
  },
  {
   "cell_type": "code",
   "execution_count": 15,
   "id": "0991122e",
   "metadata": {},
   "outputs": [
    {
     "data": {
      "text/plain": [
       "<bound method NDFrame.head of       SUBJECT_ID  ANIONGAP_MAX_VAL  BUN_MAX_VAL  CHLORIDE_MAX_VAL  \\\n",
       "0             21              27.0        102.0             113.0   \n",
       "1             38              17.0         61.0             113.0   \n",
       "2             61              21.0         42.0             117.0   \n",
       "3             62              13.0         30.0             114.0   \n",
       "4             64              21.0         26.0             113.0   \n",
       "...          ...               ...          ...               ...   \n",
       "4553       99836              23.0         79.0             119.0   \n",
       "4554       99865              36.0         57.0             130.0   \n",
       "4555       99912              22.0         38.0             114.0   \n",
       "4556       99985              20.0         23.0             105.0   \n",
       "4557       99991              16.0         31.0             114.0   \n",
       "\n",
       "      CREATININE_MAX_VAL  HEMOGLOBIN_MAX_VAL  INR_MAX_VAL  LACTATE_MAX_VAL  \\\n",
       "0                    4.9                12.9          4.0              3.9   \n",
       "1                    2.6                12.5          1.7              2.8   \n",
       "2                    0.8                13.6          1.1              3.4   \n",
       "3                    0.9                15.3          1.2              4.4   \n",
       "4                    1.5                11.5          1.6              NaN   \n",
       "...                  ...                 ...          ...              ...   \n",
       "4553                 3.5                10.7          2.1              3.4   \n",
       "4554                 1.9                12.2          3.2              9.0   \n",
       "4555                 1.2                14.4          1.5              7.9   \n",
       "4556                 1.2                12.9          3.0              2.1   \n",
       "4557                 2.5                12.7          1.3              2.2   \n",
       "\n",
       "      PLATELET_MAX_VAL  POTASSIUM_MAX_VAL  ...  BUN_MIN_VAL  CHLORIDE_MIN_VAL  \\\n",
       "0                432.0                5.5  ...         16.0              95.0   \n",
       "1                209.0                4.8  ...         12.0             102.0   \n",
       "2                521.0                5.2  ...          5.0              94.0   \n",
       "3                224.0                4.6  ...         14.0             105.0   \n",
       "4                601.0                4.8  ...          4.0              96.0   \n",
       "...                ...                ...  ...          ...               ...   \n",
       "4553             323.0                5.0  ...          7.0              94.0   \n",
       "4554             131.0                7.6  ...         10.0              92.0   \n",
       "4555             626.0                4.6  ...         20.0             100.0   \n",
       "4556             948.0                4.7  ...         10.0              95.0   \n",
       "4557             425.0                4.2  ...         13.0             102.0   \n",
       "\n",
       "      CREATININE_MIN_VAL  HEMOGLOBIN_MIN_VAL  INR_MIN_VAL  LACTATE_MIN_VAL  \\\n",
       "0                    2.0                 7.1          1.1              1.4   \n",
       "1                    0.6                 9.0          1.2              0.8   \n",
       "2                    0.2                 4.2          0.8              2.3   \n",
       "3                    0.6                10.6          1.1              1.4   \n",
       "4                    0.5                 7.2          1.0              NaN   \n",
       "...                  ...                 ...          ...              ...   \n",
       "4553                 0.6                 6.5          1.3              1.2   \n",
       "4554                 0.6                 4.7          1.3              1.0   \n",
       "4555                 0.7                 8.1          1.0              1.2   \n",
       "4556                 0.7                 7.7          1.0              0.9   \n",
       "4557                 0.7                 8.8          1.0              1.0   \n",
       "\n",
       "      PLATELET_MIN_VAL  POTASSIUM_MIN_VAL  SODIUM_MIN_VAL  WBC_MIN_VAL  \n",
       "0                142.0                3.3           133.0         30.0  \n",
       "1                 53.0                3.5           134.0          NaN  \n",
       "2                  6.0                1.7           127.0          0.0  \n",
       "3                129.0                3.1           136.0          NaN  \n",
       "4                 53.0                2.9           132.0          0.0  \n",
       "...                ...                ...             ...          ...  \n",
       "4553             101.0                2.6           133.0          7.0  \n",
       "4554              33.0                3.1           127.0         12.0  \n",
       "4555             129.0                2.9           137.0          0.0  \n",
       "4556             247.0                3.4           131.0          2.0  \n",
       "4557             151.0                3.4           139.0          1.0  \n",
       "\n",
       "[4558 rows x 23 columns]>"
      ]
     },
     "execution_count": 15,
     "metadata": {},
     "output_type": "execute_result"
    }
   ],
   "source": [
    "pivot_df = df.pivot_table(index='SUBJECT_ID', columns='ITEM', values=['MIN_VAL', 'MAX_VAL'], aggfunc='first')\n",
    "pivot_df.columns = [f'{col[1]}_{col[0]}' for col in pivot_df.columns]\n",
    "pivot_df.reset_index(inplace=True)\n",
    "\n",
    "pivot_df.head"
   ]
  },
  {
   "cell_type": "code",
   "execution_count": 16,
   "id": "7c339340",
   "metadata": {
    "scrolled": true
   },
   "outputs": [
    {
     "name": "stdout",
     "output_type": "stream",
     "text": [
      "['SUBJECT_ID', 'ANIONGAP_MAX_VAL', 'BUN_MAX_VAL', 'CHLORIDE_MAX_VAL', 'CREATININE_MAX_VAL', 'HEMOGLOBIN_MAX_VAL', 'INR_MAX_VAL', 'LACTATE_MAX_VAL', 'PLATELET_MAX_VAL', 'POTASSIUM_MAX_VAL', 'SODIUM_MAX_VAL', 'WBC_MAX_VAL', 'ANIONGAP_MIN_VAL', 'BUN_MIN_VAL', 'CHLORIDE_MIN_VAL', 'CREATININE_MIN_VAL', 'HEMOGLOBIN_MIN_VAL', 'INR_MIN_VAL', 'LACTATE_MIN_VAL', 'PLATELET_MIN_VAL', 'POTASSIUM_MIN_VAL', 'SODIUM_MIN_VAL', 'WBC_MIN_VAL']\n"
     ]
    }
   ],
   "source": [
    "column_headers = pivot_df.columns.tolist()\n",
    "\n",
    "print(column_headers)"
   ]
  },
  {
   "cell_type": "code",
   "execution_count": 17,
   "id": "ac098f5b",
   "metadata": {},
   "outputs": [
    {
     "data": {
      "text/plain": [
       "SUBJECT_ID               0\n",
       "ANIONGAP_MAX_VAL         4\n",
       "BUN_MAX_VAL              3\n",
       "CHLORIDE_MAX_VAL         3\n",
       "CREATININE_MAX_VAL       3\n",
       "HEMOGLOBIN_MAX_VAL       0\n",
       "INR_MAX_VAL             37\n",
       "LACTATE_MAX_VAL         92\n",
       "PLATELET_MAX_VAL         0\n",
       "POTASSIUM_MAX_VAL        2\n",
       "SODIUM_MAX_VAL           3\n",
       "WBC_MAX_VAL           1414\n",
       "ANIONGAP_MIN_VAL         4\n",
       "BUN_MIN_VAL              3\n",
       "CHLORIDE_MIN_VAL         3\n",
       "CREATININE_MIN_VAL       3\n",
       "HEMOGLOBIN_MIN_VAL       0\n",
       "INR_MIN_VAL             37\n",
       "LACTATE_MIN_VAL         92\n",
       "PLATELET_MIN_VAL         0\n",
       "POTASSIUM_MIN_VAL        2\n",
       "SODIUM_MIN_VAL           3\n",
       "WBC_MIN_VAL           1414\n",
       "dtype: int64"
      ]
     },
     "execution_count": 17,
     "metadata": {},
     "output_type": "execute_result"
    }
   ],
   "source": [
    "pivot_df.isna().sum()"
   ]
  },
  {
   "cell_type": "code",
   "execution_count": 18,
   "id": "6eb3085b",
   "metadata": {},
   "outputs": [
    {
     "name": "stdout",
     "output_type": "stream",
     "text": [
      "Filtered data has been exported to 'LABEVENTS-TABLE.csv'\n"
     ]
    }
   ],
   "source": [
    "pivot_df.to_csv('LABEVENTS-TABLE.csv', index=False)\n",
    "\n",
    "print(\"Filtered data has been exported to 'LABEVENTS-TABLE.csv'\")"
   ]
  }
 ],
 "metadata": {
  "kernelspec": {
   "display_name": "Python 3 (ipykernel)",
   "language": "python",
   "name": "python3"
  },
  "language_info": {
   "codemirror_mode": {
    "name": "ipython",
    "version": 3
   },
   "file_extension": ".py",
   "mimetype": "text/x-python",
   "name": "python",
   "nbconvert_exporter": "python",
   "pygments_lexer": "ipython3",
   "version": "3.11.5"
  }
 },
 "nbformat": 4,
 "nbformat_minor": 5
}
